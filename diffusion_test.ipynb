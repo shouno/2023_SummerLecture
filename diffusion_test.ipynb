{
 "cells": [
  {
   "cell_type": "code",
   "execution_count": 1,
   "metadata": {},
   "outputs": [],
   "source": [
    "import numpy as np\n",
    "import torch\n",
    "import torch.nn as nn\n",
    "import torch.optim as optim"
   ]
  },
  {
   "cell_type": "code",
   "execution_count": 2,
   "metadata": {},
   "outputs": [],
   "source": [
    "# パラメータ\n",
    "num_samples = 1000\n",
    "num_epochs = 10000\n",
    "learning_rate = 0.01\n",
    "\n",
    "# 2次元のガウス分布からデータを生成\n",
    "mean = np.array([0.0, 0.0])\n",
    "cov = np.array([[1.0, 0.0], [0.0, 1.0]])\n",
    "data = np.random.multivariate_normal(mean, cov, num_samples)\n",
    "\n",
    "# データをTensorに変換\n",
    "data = torch.tensor(data, dtype=torch.float32)\n",
    "\n",
    "# データにノイズを追加\n",
    "noise = torch.randn_like(data)\n",
    "noisy_data = data + noise\n"
   ]
  },
  {
   "cell_type": "code",
   "execution_count": 7,
   "metadata": {},
   "outputs": [],
   "source": [
    "# ニューラルネットワークを定義\n",
    "model = nn.Sequential(\n",
    "    nn.Linear(2, 10),\n",
    "    nn.ReLU(),\n",
    "    nn.Linear(10, 10),\n",
    "    nn.ReLU(),\n",
    "    nn.Linear(10, 10),\n",
    "    nn.ReLU(),\n",
    "    nn.Linear(10, 2)\n",
    ")\n",
    "\n",
    "# 最適化アルゴリズムと損失関数を定義\n",
    "optimizer = optim.Adam(model.parameters(), lr=learning_rate)\n",
    "loss_fn = nn.MSELoss()\n",
    "\n"
   ]
  },
  {
   "cell_type": "code",
   "execution_count": 8,
   "metadata": {},
   "outputs": [
    {
     "name": "stdout",
     "output_type": "stream",
     "text": [
      "Epoch 100/1000, Loss: 0.49519696831703186\n",
      "Epoch 200/1000, Loss: 0.487310528755188\n",
      "Epoch 300/1000, Loss: 0.48272088170051575\n",
      "Epoch 400/1000, Loss: 0.4799601435661316\n",
      "Epoch 500/1000, Loss: 0.47731801867485046\n",
      "Epoch 600/1000, Loss: 0.47384047508239746\n",
      "Epoch 700/1000, Loss: 0.4712573289871216\n",
      "Epoch 800/1000, Loss: 0.46924886107444763\n",
      "Epoch 900/1000, Loss: 0.4688805639743805\n",
      "Epoch 1000/1000, Loss: 0.4663456380367279\n"
     ]
    }
   ],
   "source": [
    "# モデルを訓練\n",
    "for epoch in range(num_epochs):\n",
    "    # ネットワークを通じてノイズのあるデータを逆伝播\n",
    "    predicted_data = model(noisy_data)\n",
    "\n",
    "    # 損失を計算し、バックプロパゲーションを実行\n",
    "    loss = loss_fn(predicted_data, data)\n",
    "    optimizer.zero_grad()\n",
    "    loss.backward()\n",
    "\n",
    "    # パラメータを更新\n",
    "    optimizer.step()\n",
    "\n",
    "    if (epoch + 1) % 100 == 0:\n",
    "        print(f'Epoch {epoch+1}/{num_epochs}, Loss: {loss.item()}')\n"
   ]
  },
  {
   "cell_type": "code",
   "execution_count": 5,
   "metadata": {},
   "outputs": [
    {
     "name": "stdout",
     "output_type": "stream",
     "text": [
      "Actual data:  tensor([[-0.9829, -0.2687],\n",
      "        [ 1.2884,  0.0702],\n",
      "        [ 2.5984, -0.5741],\n",
      "        [-1.0634, -0.1017],\n",
      "        [ 1.0492, -0.6943]])\n",
      "Generated data:  [[-0.11407848 -0.42034096]\n",
      " [-1.0007298   0.01665355]\n",
      " [ 0.09769252 -0.35545188]\n",
      " [ 0.23648171 -0.5132115 ]\n",
      " [ 0.69841313  0.10826579]]\n"
     ]
    }
   ],
   "source": [
    "\n",
    "# モデルを使用して新しいデータを生成\n",
    "new_noise = torch.randn(num_samples, 2)\n",
    "generated_data = model(new_noise).detach().numpy()\n",
    "\n",
    "# 実際のデータと生成されたデータを比較\n",
    "print(\"Actual data: \", data[:5])\n",
    "print(\"Generated data: \", generated_data[:5])"
   ]
  }
 ],
 "metadata": {
  "kernelspec": {
   "display_name": ".venv",
   "language": "python",
   "name": "python3"
  },
  "language_info": {
   "codemirror_mode": {
    "name": "ipython",
    "version": 3
   },
   "file_extension": ".py",
   "mimetype": "text/x-python",
   "name": "python",
   "nbconvert_exporter": "python",
   "pygments_lexer": "ipython3",
   "version": "3.10.3"
  },
  "orig_nbformat": 4
 },
 "nbformat": 4,
 "nbformat_minor": 2
}
